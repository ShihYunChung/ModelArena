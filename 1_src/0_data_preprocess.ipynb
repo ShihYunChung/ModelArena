{
 "cells": [
  {
   "cell_type": "code",
   "execution_count": null,
   "metadata": {},
   "outputs": [],
   "source": [
    "import os\n",
    "from sklearn.model_selection import train_test_split\n",
    "import shutil\n",
    "\n",
    "def split_data(raw_dir, train_dir, val_dir, test_ratio=0.2, random_state=42):\n",
    "    \"\"\"\n",
    "    將原始資料分為訓練和驗證集\n",
    "    \"\"\"\n",
    "    for label in os.listdir(raw_dir):\n",
    "        label_path = os.path.join(raw_dir, label)\n",
    "        if os.path.isdir(label_path):\n",
    "            files = [os.path.join(label_path, f) for f in os.listdir(label_path)]\n",
    "            train_files, val_files = train_test_split(files, test_size=test_ratio, random_state=random_state)\n",
    "\n",
    "            for file, target_dir in zip([train_files, val_files], [train_dir, val_dir]):\n",
    "                label_target_dir = os.path.join(target_dir, label)\n",
    "                os.makedirs(label_target_dir, exist_ok=True)\n",
    "                for f in file:\n",
    "                    shutil.copy(f, label_target_dir)\n",
    "\n",
    "# Example 使用\n",
    "raw_dir = \"./0_data/0_rawDataSet\"\n",
    "split_data(raw_dir, \"./0_data/1_raw/0_train\", \"./0_data/1_raw/1_val\")\n"
   ]
  }
 ],
 "metadata": {
  "kernelspec": {
   "display_name": "eenv",
   "language": "python",
   "name": "python3"
  },
  "language_info": {
   "name": "python",
   "version": "3.9.21"
  }
 },
 "nbformat": 4,
 "nbformat_minor": 2
}
