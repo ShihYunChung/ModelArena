{
 "cells": [
  {
   "cell_type": "code",
   "execution_count": null,
   "metadata": {
    "vscode": {
     "languageId": "plaintext"
    }
   },
   "outputs": [],
   "source": [
    "import os\n",
    "import cv2\n",
    "from albumentations import Compose, HorizontalFlip, Rotate, RandomBrightnessContrast\n",
    "\n",
    "def augment_images(input_dir, output_dir, num_augments=5):\n",
    "    \"\"\"\n",
    "    針對影像進行增強處理\n",
    "    \"\"\"\n",
    "    os.makedirs(output_dir, exist_ok=True)\n",
    "    augmentations = Compose([\n",
    "        HorizontalFlip(p=0.5),\n",
    "        Rotate(limit=30, p=0.5),\n",
    "        RandomBrightnessContrast(p=0.5),\n",
    "    ])\n",
    "\n",
    "    for label in os.listdir(input_dir):\n",
    "        label_path = os.path.join(input_dir, label)\n",
    "        if not os.path.isdir(label_path):\n",
    "            continue\n",
    "\n",
    "        augmented_label_path = os.path.join(output_dir, label)\n",
    "        os.makedirs(augmented_label_path, exist_ok=True)\n",
    "\n",
    "        for img_file in os.listdir(label_path):\n",
    "            img_path = os.path.join(label_path, img_file)\n",
    "            image = cv2.imread(img_path)\n",
    "\n",
    "            for i in range(num_augments):\n",
    "                augmented = augmentations(image=image)['image']\n",
    "                aug_img_path = os.path.join(augmented_label_path, f\"{os.path.splitext(img_file)[0]}_aug{i}.jpg\")\n",
    "                cv2.imwrite(aug_img_path, augmented)\n",
    "\n",
    "# Example 使用\n",
    "augment_images(\"./0_data/1_raw/0_train\", \"./0_data/2_augmented/0_train\")\n"
   ]
  }
 ],
 "metadata": {
  "language_info": {
   "name": "python"
  }
 },
 "nbformat": 4,
 "nbformat_minor": 2
}
